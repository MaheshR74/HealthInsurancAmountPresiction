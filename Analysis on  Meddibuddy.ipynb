{
 "cells": [
  {
   "cell_type": "markdown",
   "id": "8da13552",
   "metadata": {},
   "source": [
    "## Importing Necessory Libraries"
   ]
  },
  {
   "cell_type": "code",
   "execution_count": 1,
   "id": "262a0ace",
   "metadata": {
    "ExecuteTime": {
     "end_time": "2022-08-08T03:42:26.163372Z",
     "start_time": "2022-08-08T03:42:22.860688Z"
    }
   },
   "outputs": [],
   "source": [
    "# Dataframe manipulation and analysis libraries\n",
    "import pandas as pd \n",
    "import numpy as np \n",
    "\n",
    "#Data Visualization libraries\n",
    "import matplotlib.pyplot as plt\n",
    "import seaborn as sns"
   ]
  },
  {
   "cell_type": "markdown",
   "id": "d6ee0a43",
   "metadata": {},
   "source": [
    "## Loading Dataset"
   ]
  },
  {
   "cell_type": "code",
   "execution_count": 2,
   "id": "95038de5",
   "metadata": {
    "ExecuteTime": {
     "end_time": "2022-08-08T03:42:26.691098Z",
     "start_time": "2022-08-08T03:42:26.163372Z"
    }
   },
   "outputs": [
    {
     "data": {
      "text/html": [
       "<div>\n",
       "<style scoped>\n",
       "    .dataframe tbody tr th:only-of-type {\n",
       "        vertical-align: middle;\n",
       "    }\n",
       "\n",
       "    .dataframe tbody tr th {\n",
       "        vertical-align: top;\n",
       "    }\n",
       "\n",
       "    .dataframe thead th {\n",
       "        text-align: right;\n",
       "    }\n",
       "</style>\n",
       "<table border=\"1\" class=\"dataframe\">\n",
       "  <thead>\n",
       "    <tr style=\"text-align: right;\">\n",
       "      <th></th>\n",
       "      <th>Policy no.</th>\n",
       "      <th>children</th>\n",
       "      <th>smoker</th>\n",
       "      <th>region</th>\n",
       "    </tr>\n",
       "  </thead>\n",
       "  <tbody>\n",
       "    <tr>\n",
       "      <th>0</th>\n",
       "      <td>PLC157006</td>\n",
       "      <td>0</td>\n",
       "      <td>no</td>\n",
       "      <td>southwest</td>\n",
       "    </tr>\n",
       "    <tr>\n",
       "      <th>1</th>\n",
       "      <td>PLC157033</td>\n",
       "      <td>1</td>\n",
       "      <td>no</td>\n",
       "      <td>southwest</td>\n",
       "    </tr>\n",
       "    <tr>\n",
       "      <th>2</th>\n",
       "      <td>PLC157060</td>\n",
       "      <td>0</td>\n",
       "      <td>no</td>\n",
       "      <td>southwest</td>\n",
       "    </tr>\n",
       "    <tr>\n",
       "      <th>3</th>\n",
       "      <td>PLC157087</td>\n",
       "      <td>1</td>\n",
       "      <td>no</td>\n",
       "      <td>southwest</td>\n",
       "    </tr>\n",
       "    <tr>\n",
       "      <th>4</th>\n",
       "      <td>PLC157186</td>\n",
       "      <td>5</td>\n",
       "      <td>no</td>\n",
       "      <td>southwest</td>\n",
       "    </tr>\n",
       "  </tbody>\n",
       "</table>\n",
       "</div>"
      ],
      "text/plain": [
       "  Policy no.  children smoker     region\n",
       "0  PLC157006         0     no  southwest\n",
       "1  PLC157033         1     no  southwest\n",
       "2  PLC157060         0     no  southwest\n",
       "3  PLC157087         1     no  southwest\n",
       "4  PLC157186         5     no  southwest"
      ]
     },
     "execution_count": 2,
     "metadata": {},
     "output_type": "execute_result"
    }
   ],
   "source": [
    "df1 = pd.read_excel('Medibuddy insurance data personal details (1) (2).xlsx')\n",
    "df1.head()"
   ]
  },
  {
   "cell_type": "code",
   "execution_count": 3,
   "id": "522d77b3",
   "metadata": {
    "ExecuteTime": {
     "end_time": "2022-08-08T03:42:26.707047Z",
     "start_time": "2022-08-08T03:42:26.691098Z"
    }
   },
   "outputs": [
    {
     "data": {
      "text/plain": [
       "(1338, 4)"
      ]
     },
     "execution_count": 3,
     "metadata": {},
     "output_type": "execute_result"
    }
   ],
   "source": [
    "df1.shape"
   ]
  },
  {
   "cell_type": "code",
   "execution_count": 4,
   "id": "1bcff257",
   "metadata": {
    "ExecuteTime": {
     "end_time": "2022-08-08T03:42:26.738464Z",
     "start_time": "2022-08-08T03:42:26.710153Z"
    }
   },
   "outputs": [
    {
     "data": {
      "text/html": [
       "<div>\n",
       "<style scoped>\n",
       "    .dataframe tbody tr th:only-of-type {\n",
       "        vertical-align: middle;\n",
       "    }\n",
       "\n",
       "    .dataframe tbody tr th {\n",
       "        vertical-align: top;\n",
       "    }\n",
       "\n",
       "    .dataframe thead th {\n",
       "        text-align: right;\n",
       "    }\n",
       "</style>\n",
       "<table border=\"1\" class=\"dataframe\">\n",
       "  <thead>\n",
       "    <tr style=\"text-align: right;\">\n",
       "      <th></th>\n",
       "      <th>Policy no.</th>\n",
       "      <th>age</th>\n",
       "      <th>sex</th>\n",
       "      <th>bmi</th>\n",
       "      <th>charges in INR</th>\n",
       "    </tr>\n",
       "  </thead>\n",
       "  <tbody>\n",
       "    <tr>\n",
       "      <th>0</th>\n",
       "      <td>PLC156898</td>\n",
       "      <td>19</td>\n",
       "      <td>female</td>\n",
       "      <td>27.900</td>\n",
       "      <td>16884.92400</td>\n",
       "    </tr>\n",
       "    <tr>\n",
       "      <th>1</th>\n",
       "      <td>PLC156907</td>\n",
       "      <td>18</td>\n",
       "      <td>male</td>\n",
       "      <td>33.770</td>\n",
       "      <td>1725.55230</td>\n",
       "    </tr>\n",
       "    <tr>\n",
       "      <th>2</th>\n",
       "      <td>PLC156916</td>\n",
       "      <td>28</td>\n",
       "      <td>male</td>\n",
       "      <td>33.000</td>\n",
       "      <td>4449.46200</td>\n",
       "    </tr>\n",
       "    <tr>\n",
       "      <th>3</th>\n",
       "      <td>PLC156925</td>\n",
       "      <td>33</td>\n",
       "      <td>male</td>\n",
       "      <td>22.705</td>\n",
       "      <td>21984.47061</td>\n",
       "    </tr>\n",
       "    <tr>\n",
       "      <th>4</th>\n",
       "      <td>PLC156934</td>\n",
       "      <td>32</td>\n",
       "      <td>male</td>\n",
       "      <td>28.880</td>\n",
       "      <td>3866.85520</td>\n",
       "    </tr>\n",
       "  </tbody>\n",
       "</table>\n",
       "</div>"
      ],
      "text/plain": [
       "  Policy no.  age     sex     bmi  charges in INR\n",
       "0  PLC156898   19  female  27.900     16884.92400\n",
       "1  PLC156907   18    male  33.770      1725.55230\n",
       "2  PLC156916   28    male  33.000      4449.46200\n",
       "3  PLC156925   33    male  22.705     21984.47061\n",
       "4  PLC156934   32    male  28.880      3866.85520"
      ]
     },
     "execution_count": 4,
     "metadata": {},
     "output_type": "execute_result"
    }
   ],
   "source": [
    "df2 = pd.read_csv('Medibuddy Insurance Data Price (1) (2).csv')\n",
    "df2.head()"
   ]
  },
  {
   "cell_type": "code",
   "execution_count": 5,
   "id": "2e28e483",
   "metadata": {
    "ExecuteTime": {
     "end_time": "2022-08-08T03:42:26.750947Z",
     "start_time": "2022-08-08T03:42:26.738464Z"
    }
   },
   "outputs": [
    {
     "data": {
      "text/plain": [
       "(1338, 5)"
      ]
     },
     "execution_count": 5,
     "metadata": {},
     "output_type": "execute_result"
    }
   ],
   "source": [
    "df2.shape"
   ]
  },
  {
   "cell_type": "code",
   "execution_count": 6,
   "id": "737d38fc",
   "metadata": {
    "ExecuteTime": {
     "end_time": "2022-08-08T03:42:26.782851Z",
     "start_time": "2022-08-08T03:42:26.750947Z"
    }
   },
   "outputs": [
    {
     "data": {
      "text/html": [
       "<div>\n",
       "<style scoped>\n",
       "    .dataframe tbody tr th:only-of-type {\n",
       "        vertical-align: middle;\n",
       "    }\n",
       "\n",
       "    .dataframe tbody tr th {\n",
       "        vertical-align: top;\n",
       "    }\n",
       "\n",
       "    .dataframe thead th {\n",
       "        text-align: right;\n",
       "    }\n",
       "</style>\n",
       "<table border=\"1\" class=\"dataframe\">\n",
       "  <thead>\n",
       "    <tr style=\"text-align: right;\">\n",
       "      <th></th>\n",
       "      <th>Policy no.</th>\n",
       "      <th>children</th>\n",
       "      <th>smoker</th>\n",
       "      <th>region</th>\n",
       "      <th>age</th>\n",
       "      <th>sex</th>\n",
       "      <th>bmi</th>\n",
       "      <th>charges in INR</th>\n",
       "    </tr>\n",
       "  </thead>\n",
       "  <tbody>\n",
       "    <tr>\n",
       "      <th>0</th>\n",
       "      <td>PLC157006</td>\n",
       "      <td>0</td>\n",
       "      <td>no</td>\n",
       "      <td>southwest</td>\n",
       "      <td>23</td>\n",
       "      <td>male</td>\n",
       "      <td>34.4</td>\n",
       "      <td>1826.843</td>\n",
       "    </tr>\n",
       "    <tr>\n",
       "      <th>1</th>\n",
       "      <td>PLC157033</td>\n",
       "      <td>1</td>\n",
       "      <td>no</td>\n",
       "      <td>southwest</td>\n",
       "      <td>19</td>\n",
       "      <td>male</td>\n",
       "      <td>24.6</td>\n",
       "      <td>1837.237</td>\n",
       "    </tr>\n",
       "    <tr>\n",
       "      <th>2</th>\n",
       "      <td>PLC157060</td>\n",
       "      <td>0</td>\n",
       "      <td>no</td>\n",
       "      <td>southwest</td>\n",
       "      <td>56</td>\n",
       "      <td>male</td>\n",
       "      <td>40.3</td>\n",
       "      <td>10602.385</td>\n",
       "    </tr>\n",
       "    <tr>\n",
       "      <th>3</th>\n",
       "      <td>PLC157087</td>\n",
       "      <td>1</td>\n",
       "      <td>no</td>\n",
       "      <td>southwest</td>\n",
       "      <td>30</td>\n",
       "      <td>female</td>\n",
       "      <td>32.4</td>\n",
       "      <td>4149.736</td>\n",
       "    </tr>\n",
       "    <tr>\n",
       "      <th>4</th>\n",
       "      <td>PLC157186</td>\n",
       "      <td>5</td>\n",
       "      <td>no</td>\n",
       "      <td>southwest</td>\n",
       "      <td>19</td>\n",
       "      <td>female</td>\n",
       "      <td>28.6</td>\n",
       "      <td>4687.797</td>\n",
       "    </tr>\n",
       "  </tbody>\n",
       "</table>\n",
       "</div>"
      ],
      "text/plain": [
       "  Policy no.  children smoker     region  age     sex   bmi  charges in INR\n",
       "0  PLC157006         0     no  southwest   23    male  34.4        1826.843\n",
       "1  PLC157033         1     no  southwest   19    male  24.6        1837.237\n",
       "2  PLC157060         0     no  southwest   56    male  40.3       10602.385\n",
       "3  PLC157087         1     no  southwest   30  female  32.4        4149.736\n",
       "4  PLC157186         5     no  southwest   19  female  28.6        4687.797"
      ]
     },
     "execution_count": 6,
     "metadata": {},
     "output_type": "execute_result"
    }
   ],
   "source": [
    "# merge two datsets\n",
    "df = pd.merge(df1,df2)\n",
    "df.head()"
   ]
  },
  {
   "cell_type": "code",
   "execution_count": 7,
   "id": "a0de4e84",
   "metadata": {
    "ExecuteTime": {
     "end_time": "2022-08-08T03:42:26.795790Z",
     "start_time": "2022-08-08T03:42:26.782851Z"
    }
   },
   "outputs": [
    {
     "data": {
      "text/plain": [
       "(1338, 8)"
      ]
     },
     "execution_count": 7,
     "metadata": {},
     "output_type": "execute_result"
    }
   ],
   "source": [
    "df.shape"
   ]
  },
  {
   "cell_type": "markdown",
   "id": "5d0e4522",
   "metadata": {},
   "source": [
    "## EDA (Exploratory Data Analysis)"
   ]
  },
  {
   "cell_type": "code",
   "execution_count": 8,
   "id": "60ff81e5",
   "metadata": {
    "ExecuteTime": {
     "end_time": "2022-08-08T03:42:26.816046Z",
     "start_time": "2022-08-08T03:42:26.797368Z"
    }
   },
   "outputs": [
    {
     "name": "stdout",
     "output_type": "stream",
     "text": [
      "<class 'pandas.core.frame.DataFrame'>\n",
      "Int64Index: 1338 entries, 0 to 1337\n",
      "Data columns (total 8 columns):\n",
      " #   Column          Non-Null Count  Dtype  \n",
      "---  ------          --------------  -----  \n",
      " 0   Policy no.      1338 non-null   object \n",
      " 1   children        1338 non-null   int64  \n",
      " 2   smoker          1338 non-null   object \n",
      " 3   region          1338 non-null   object \n",
      " 4   age             1338 non-null   int64  \n",
      " 5   sex             1338 non-null   object \n",
      " 6   bmi             1338 non-null   float64\n",
      " 7   charges in INR  1338 non-null   float64\n",
      "dtypes: float64(2), int64(2), object(4)\n",
      "memory usage: 94.1+ KB\n"
     ]
    }
   ],
   "source": [
    "df.info()"
   ]
  },
  {
   "cell_type": "markdown",
   "id": "a936735c",
   "metadata": {},
   "source": [
    "### Descriptive Analysis"
   ]
  },
  {
   "cell_type": "code",
   "execution_count": 9,
   "id": "ad22032a",
   "metadata": {
    "ExecuteTime": {
     "end_time": "2022-08-08T03:42:26.844644Z",
     "start_time": "2022-08-08T03:42:26.816046Z"
    }
   },
   "outputs": [
    {
     "data": {
      "text/html": [
       "<div>\n",
       "<style scoped>\n",
       "    .dataframe tbody tr th:only-of-type {\n",
       "        vertical-align: middle;\n",
       "    }\n",
       "\n",
       "    .dataframe tbody tr th {\n",
       "        vertical-align: top;\n",
       "    }\n",
       "\n",
       "    .dataframe thead th {\n",
       "        text-align: right;\n",
       "    }\n",
       "</style>\n",
       "<table border=\"1\" class=\"dataframe\">\n",
       "  <thead>\n",
       "    <tr style=\"text-align: right;\">\n",
       "      <th></th>\n",
       "      <th>children</th>\n",
       "      <th>age</th>\n",
       "      <th>bmi</th>\n",
       "      <th>charges in INR</th>\n",
       "    </tr>\n",
       "  </thead>\n",
       "  <tbody>\n",
       "    <tr>\n",
       "      <th>count</th>\n",
       "      <td>1338.000000</td>\n",
       "      <td>1338.000000</td>\n",
       "      <td>1338.000000</td>\n",
       "      <td>1338.000000</td>\n",
       "    </tr>\n",
       "    <tr>\n",
       "      <th>mean</th>\n",
       "      <td>1.094918</td>\n",
       "      <td>39.207025</td>\n",
       "      <td>30.663397</td>\n",
       "      <td>13270.422265</td>\n",
       "    </tr>\n",
       "    <tr>\n",
       "      <th>std</th>\n",
       "      <td>1.205493</td>\n",
       "      <td>14.049960</td>\n",
       "      <td>6.098187</td>\n",
       "      <td>12110.011237</td>\n",
       "    </tr>\n",
       "    <tr>\n",
       "      <th>min</th>\n",
       "      <td>0.000000</td>\n",
       "      <td>18.000000</td>\n",
       "      <td>15.960000</td>\n",
       "      <td>1121.873900</td>\n",
       "    </tr>\n",
       "    <tr>\n",
       "      <th>25%</th>\n",
       "      <td>0.000000</td>\n",
       "      <td>27.000000</td>\n",
       "      <td>26.296250</td>\n",
       "      <td>4740.287150</td>\n",
       "    </tr>\n",
       "    <tr>\n",
       "      <th>50%</th>\n",
       "      <td>1.000000</td>\n",
       "      <td>39.000000</td>\n",
       "      <td>30.400000</td>\n",
       "      <td>9382.033000</td>\n",
       "    </tr>\n",
       "    <tr>\n",
       "      <th>75%</th>\n",
       "      <td>2.000000</td>\n",
       "      <td>51.000000</td>\n",
       "      <td>34.693750</td>\n",
       "      <td>16639.912515</td>\n",
       "    </tr>\n",
       "    <tr>\n",
       "      <th>max</th>\n",
       "      <td>5.000000</td>\n",
       "      <td>64.000000</td>\n",
       "      <td>53.130000</td>\n",
       "      <td>63770.428010</td>\n",
       "    </tr>\n",
       "  </tbody>\n",
       "</table>\n",
       "</div>"
      ],
      "text/plain": [
       "          children          age          bmi  charges in INR\n",
       "count  1338.000000  1338.000000  1338.000000     1338.000000\n",
       "mean      1.094918    39.207025    30.663397    13270.422265\n",
       "std       1.205493    14.049960     6.098187    12110.011237\n",
       "min       0.000000    18.000000    15.960000     1121.873900\n",
       "25%       0.000000    27.000000    26.296250     4740.287150\n",
       "50%       1.000000    39.000000    30.400000     9382.033000\n",
       "75%       2.000000    51.000000    34.693750    16639.912515\n",
       "max       5.000000    64.000000    53.130000    63770.428010"
      ]
     },
     "execution_count": 9,
     "metadata": {},
     "output_type": "execute_result"
    }
   ],
   "source": [
    "df.describe()"
   ]
  },
  {
   "cell_type": "markdown",
   "id": "6241d503",
   "metadata": {},
   "source": [
    "1. Does the gender of the person matter for the company as a constraint for extending policies?"
   ]
  },
  {
   "cell_type": "code",
   "execution_count": 10,
   "id": "010e5a92",
   "metadata": {
    "ExecuteTime": {
     "end_time": "2022-08-08T03:42:26.860637Z",
     "start_time": "2022-08-08T03:42:26.844644Z"
    }
   },
   "outputs": [
    {
     "data": {
      "text/plain": [
       "male      676\n",
       "female    662\n",
       "Name: sex, dtype: int64"
      ]
     },
     "execution_count": 10,
     "metadata": {},
     "output_type": "execute_result"
    }
   ],
   "source": [
    "df['sex'].value_counts()"
   ]
  },
  {
   "cell_type": "code",
   "execution_count": 11,
   "id": "efb13cfc",
   "metadata": {
    "ExecuteTime": {
     "end_time": "2022-08-08T03:42:26.876647Z",
     "start_time": "2022-08-08T03:42:26.860637Z"
    }
   },
   "outputs": [],
   "source": [
    "def pie_chart(x = 'smoker'):\n",
    "    \"\"\"\n",
    "    Function creates a Pie chart for categorical variables.\n",
    "    \"\"\"\n",
    "    fig, ax = plt.subplots(figsize=(8, 6), subplot_kw=dict(aspect=\"equal\"))\n",
    "\n",
    "    s = df.groupby(x).size()\n",
    "\n",
    "    mydata_values = s.values.tolist()\n",
    "    mydata_index = s.index.tolist()\n",
    "\n",
    "    def func(pct, allvals):\n",
    "        absolute = int(pct/100.*np.sum(allvals))\n",
    "        return \"{:.1f}%\\n({:d})\".format(pct, absolute)\n",
    "\n",
    "\n",
    "    wedges, texts, autotexts = ax.pie(mydata_values, autopct=lambda pct: func(pct, mydata_values),\n",
    "                                      textprops=dict(color=\"w\"))\n",
    "\n",
    "    ax.legend(wedges, mydata_index,\n",
    "              title=\"Index\",\n",
    "              loc=\"center left\",\n",
    "              bbox_to_anchor=(1, 0, 0.5, 1))\n",
    "\n",
    "    plt.setp(autotexts, size=12, weight=\"bold\")\n",
    "\n",
    "    ax.set_title(f'{x.capitalize()} Piechart')\n",
    "\n",
    "    plt.show()"
   ]
  },
  {
   "cell_type": "code",
   "execution_count": 12,
   "id": "15beacab",
   "metadata": {
    "ExecuteTime": {
     "end_time": "2022-08-08T03:42:27.137153Z",
     "start_time": "2022-08-08T03:42:26.878117Z"
    },
    "scrolled": true
   },
   "outputs": [
    {
     "data": {
      "image/png": "[encoded data removed]",
      "text/plain": [
       "<Figure size 576x432 with 1 Axes>"
      ]
     },
     "metadata": {},
     "output_type": "display_data"
    }
   ],
   "source": [
    "pie_chart('sex')"
   ]
  },
  {
   "cell_type": "code",
   "execution_count": 13,
   "id": "a345ea29",
   "metadata": {
    "ExecuteTime": {
     "end_time": "2022-08-08T03:42:27.150982Z",
     "start_time": "2022-08-08T03:42:27.139507Z"
    }
   },
   "outputs": [
    {
     "data": {
      "text/plain": [
       "sex\n",
       "female    12569.578844\n",
       "male      13956.751178\n",
       "Name: charges in INR, dtype: float64"
      ]
     },
     "execution_count": 13,
     "metadata": {},
     "output_type": "execute_result"
    }
   ],
   "source": [
    "df['charges in INR'].groupby(df['sex']).mean()"
   ]
  },
  {
   "cell_type": "markdown",
   "id": "099cc939",
   "metadata": {},
   "source": [
    "Analysis :\n",
    " - Males and Females are equally contributed in Policy. that's why gender of the person dosen't matter for the company as a constraint for extending policies"
   ]
  },
  {
   "cell_type": "markdown",
   "id": "fac61c0a",
   "metadata": {},
   "source": [
    "2. What is the average amount of money the company spent over each policy cover"
   ]
  },
  {
   "cell_type": "code",
   "execution_count": 14,
   "id": "23748886",
   "metadata": {
    "ExecuteTime": {
     "end_time": "2022-08-08T03:42:27.166985Z",
     "start_time": "2022-08-08T03:42:27.150982Z"
    }
   },
   "outputs": [
    {
     "name": "stdout",
     "output_type": "stream",
     "text": [
      "The average amount of money the company spent over each policy cover is :  13270.42  INR\n"
     ]
    }
   ],
   "source": [
    "Average_money = round(df['charges in INR'].mean(),2)\n",
    "print('The average amount of money the company spent over each policy cover is : ',Average_money,' INR')"
   ]
  },
  {
   "cell_type": "markdown",
   "id": "bc05702a",
   "metadata": {},
   "source": [
    "3. Could you advice if the company needs to offer separate policies based upon the geographic location of the person?"
   ]
  },
  {
   "cell_type": "code",
   "execution_count": 15,
   "id": "dcd17c34",
   "metadata": {
    "ExecuteTime": {
     "end_time": "2022-08-08T03:42:27.263371Z",
     "start_time": "2022-08-08T03:42:27.166985Z"
    }
   },
   "outputs": [
    {
     "data": {
      "image/png": "[encoded data removed]",
      "text/plain": [
       "<Figure size 576x432 with 1 Axes>"
      ]
     },
     "metadata": {},
     "output_type": "display_data"
    }
   ],
   "source": [
    "pie_chart('region')"
   ]
  },
  {
   "cell_type": "code",
   "execution_count": 16,
   "id": "11e2109f",
   "metadata": {
    "ExecuteTime": {
     "end_time": "2022-08-08T03:42:27.275193Z",
     "start_time": "2022-08-08T03:42:27.263371Z"
    }
   },
   "outputs": [
    {
     "data": {
      "text/plain": [
       "region\n",
       "northeast    13406.384516\n",
       "northwest    12417.575374\n",
       "southeast    14735.411438\n",
       "southwest    12346.937377\n",
       "Name: charges in INR, dtype: float64"
      ]
     },
     "execution_count": 16,
     "metadata": {},
     "output_type": "execute_result"
    }
   ],
   "source": [
    "df['charges in INR'].groupby(df['region']).mean()"
   ]
  },
  {
   "cell_type": "markdown",
   "id": "4bfca46b",
   "metadata": {},
   "source": [
    "Analysis : \n",
    "- There is no significant Difference between the regions to contributing Policy And Charges. so we will not advice the company to offer separate policies based upon the geographic location of the person."
   ]
  },
  {
   "cell_type": "markdown",
   "id": "472b32c8",
   "metadata": {},
   "source": [
    "4. Does the no. of dependents make a difference in the amount claimed"
   ]
  },
  {
   "cell_type": "code",
   "execution_count": 17,
   "id": "98636fe6",
   "metadata": {
    "ExecuteTime": {
     "end_time": "2022-08-08T03:42:27.382167Z",
     "start_time": "2022-08-08T03:42:27.275404Z"
    }
   },
   "outputs": [
    {
     "data": {
      "image/png": "[encoded data removed]",
      "text/plain": [
       "<Figure size 576x432 with 1 Axes>"
      ]
     },
     "metadata": {},
     "output_type": "display_data"
    }
   ],
   "source": [
    "pie_chart('children')"
   ]
  },
  {
   "cell_type": "code",
   "execution_count": 18,
   "id": "d16d4a57",
   "metadata": {
    "ExecuteTime": {
     "end_time": "2022-08-08T03:42:27.398131Z",
     "start_time": "2022-08-08T03:42:27.382167Z"
    }
   },
   "outputs": [
    {
     "data": {
      "text/plain": [
       "children\n",
       "0    12365.98\n",
       "1    12731.17\n",
       "2    15073.56\n",
       "3    15355.32\n",
       "4    13850.66\n",
       "5     8786.04\n",
       "Name: charges in INR, dtype: float64"
      ]
     },
     "execution_count": 18,
     "metadata": {},
     "output_type": "execute_result"
    }
   ],
   "source": [
    "round(df['charges in INR'].groupby(df['children']).mean(),2)"
   ]
  },
  {
   "cell_type": "markdown",
   "id": "6d93f806",
   "metadata": {},
   "source": [
    "Analysis :\n",
    "- Yes,no. of dependents make a difference in the amount claimed. we can see Person with no depepends claimed less amount than perso who has more than 1 or 2 dependents. person who has more than 4 dependents claimed less amount."
   ]
  },
  {
   "cell_type": "markdown",
   "id": "7380fdd9",
   "metadata": {},
   "source": [
    "5. Does a study of persons BMI get the company any idea for the insurance claim that it would extend?"
   ]
  },
  {
   "cell_type": "code",
   "execution_count": 19,
   "id": "371eba87",
   "metadata": {
    "ExecuteTime": {
     "end_time": "2022-08-08T03:42:27.490742Z",
     "start_time": "2022-08-08T03:42:27.398131Z"
    }
   },
   "outputs": [
    {
     "name": "stderr",
     "output_type": "stream",
     "text": [
      "C:\\Users\\Mahesh\\anaconda3\\lib\\site-packages\\seaborn\\_decorators.py:36: FutureWarning: Pass the following variable as a keyword arg: x. From version 0.12, the only valid positional argument will be `data`, and passing other arguments without an explicit keyword will result in an error or misinterpretation.\n",
      "  warnings.warn(\n"
     ]
    },
    {
     "data": {
      "text/plain": [
       "<AxesSubplot:xlabel='bmi'>"
      ]
     },
     "execution_count": 19,
     "metadata": {},
     "output_type": "execute_result"
    },
    {
     "data": {
      "image/png": "[encoded data removed]",
      "text/plain": [
       "<Figure size 432x288 with 1 Axes>"
      ]
     },
     "metadata": {
      "needs_background": "light"
     },
     "output_type": "display_data"
    }
   ],
   "source": [
    "sns.boxplot(df['bmi'])"
   ]
  },
  {
   "cell_type": "code",
   "execution_count": 20,
   "id": "78eaa236",
   "metadata": {
    "ExecuteTime": {
     "end_time": "2022-08-08T03:42:27.506740Z",
     "start_time": "2022-08-08T03:42:27.490742Z"
    }
   },
   "outputs": [],
   "source": [
    "Q1 = df['bmi'].quantile(0.25)\n",
    "Q2 = df['bmi'].quantile(0.50)\n",
    "Q3 = df['bmi'].quantile(0.75)\n",
    "IQR = Q3 - Q1\n",
    "LW = Q1 - (1.5 * IQR)\n",
    "UW = Q3 + (1.5 * IQR)\n",
    "df.loc[(df['bmi'] < LW), 'bmi'] = Q1 \n",
    "df.loc[(df['bmi'] > UW), 'bmi'] = Q3 "
   ]
  },
  {
   "cell_type": "code",
   "execution_count": 21,
   "id": "c351fcbc",
   "metadata": {
    "ExecuteTime": {
     "end_time": "2022-08-08T03:42:27.671339Z",
     "start_time": "2022-08-08T03:42:27.506740Z"
    }
   },
   "outputs": [
    {
     "name": "stderr",
     "output_type": "stream",
     "text": [
      "C:\\Users\\Mahesh\\anaconda3\\lib\\site-packages\\seaborn\\_decorators.py:36: FutureWarning: Pass the following variable as a keyword arg: x. From version 0.12, the only valid positional argument will be `data`, and passing other arguments without an explicit keyword will result in an error or misinterpretation.\n",
      "  warnings.warn(\n"
     ]
    },
    {
     "data": {
      "text/plain": [
       "<AxesSubplot:xlabel='bmi'>"
      ]
     },
     "execution_count": 21,
     "metadata": {},
     "output_type": "execute_result"
    },
    {
     "data": {
      "image/png": "[encoded data removed]",
      "text/plain": [
       "<Figure size 432x288 with 1 Axes>"
      ]
     },
     "metadata": {
      "needs_background": "light"
     },
     "output_type": "display_data"
    }
   ],
   "source": [
    "sns.boxplot(df['bmi'])"
   ]
  },
  {
   "cell_type": "code",
   "execution_count": 22,
   "id": "b467f729",
   "metadata": {
    "ExecuteTime": {
     "end_time": "2022-08-08T03:42:27.704400Z",
     "start_time": "2022-08-08T03:42:27.671339Z"
    }
   },
   "outputs": [
    {
     "data": {
      "text/html": [
       "<div>\n",
       "<style scoped>\n",
       "    .dataframe tbody tr th:only-of-type {\n",
       "        vertical-align: middle;\n",
       "    }\n",
       "\n",
       "    .dataframe tbody tr th {\n",
       "        vertical-align: top;\n",
       "    }\n",
       "\n",
       "    .dataframe thead th {\n",
       "        text-align: right;\n",
       "    }\n",
       "</style>\n",
       "<table border=\"1\" class=\"dataframe\">\n",
       "  <thead>\n",
       "    <tr style=\"text-align: right;\">\n",
       "      <th></th>\n",
       "      <th>Policy no.</th>\n",
       "      <th>children</th>\n",
       "      <th>smoker</th>\n",
       "      <th>region</th>\n",
       "      <th>age</th>\n",
       "      <th>sex</th>\n",
       "      <th>bmi</th>\n",
       "      <th>charges in INR</th>\n",
       "    </tr>\n",
       "  </thead>\n",
       "  <tbody>\n",
       "    <tr>\n",
       "      <th>1157</th>\n",
       "      <td>PLC161785</td>\n",
       "      <td>0</td>\n",
       "      <td>yes</td>\n",
       "      <td>southeast</td>\n",
       "      <td>54</td>\n",
       "      <td>female</td>\n",
       "      <td>34.69375</td>\n",
       "      <td>63770.42801</td>\n",
       "    </tr>\n",
       "  </tbody>\n",
       "</table>\n",
       "</div>"
      ],
      "text/plain": [
       "     Policy no.  children smoker     region  age     sex       bmi  \\\n",
       "1157  PLC161785         0    yes  southeast   54  female  34.69375   \n",
       "\n",
       "      charges in INR  \n",
       "1157     63770.42801  "
      ]
     },
     "execution_count": 22,
     "metadata": {},
     "output_type": "execute_result"
    }
   ],
   "source": [
    "# The Perason Who is paying the highest charges\n",
    "df[df['charges in INR'] == df['charges in INR'].max()]"
   ]
  },
  {
   "cell_type": "code",
   "execution_count": 23,
   "id": "9c6015f3",
   "metadata": {
    "ExecuteTime": {
     "end_time": "2022-08-08T03:42:27.724776Z",
     "start_time": "2022-08-08T03:42:27.704400Z"
    }
   },
   "outputs": [
    {
     "data": {
      "text/html": [
       "<div>\n",
       "<style scoped>\n",
       "    .dataframe tbody tr th:only-of-type {\n",
       "        vertical-align: middle;\n",
       "    }\n",
       "\n",
       "    .dataframe tbody tr th {\n",
       "        vertical-align: top;\n",
       "    }\n",
       "\n",
       "    .dataframe thead th {\n",
       "        text-align: right;\n",
       "    }\n",
       "</style>\n",
       "<table border=\"1\" class=\"dataframe\">\n",
       "  <thead>\n",
       "    <tr style=\"text-align: right;\">\n",
       "      <th></th>\n",
       "      <th>Policy no.</th>\n",
       "      <th>children</th>\n",
       "      <th>smoker</th>\n",
       "      <th>region</th>\n",
       "      <th>age</th>\n",
       "      <th>sex</th>\n",
       "      <th>bmi</th>\n",
       "      <th>charges in INR</th>\n",
       "    </tr>\n",
       "  </thead>\n",
       "  <tbody>\n",
       "    <tr>\n",
       "      <th>358</th>\n",
       "      <td>PLC160840</td>\n",
       "      <td>5</td>\n",
       "      <td>no</td>\n",
       "      <td>southeast</td>\n",
       "      <td>52</td>\n",
       "      <td>female</td>\n",
       "      <td>46.75</td>\n",
       "      <td>12592.5345</td>\n",
       "    </tr>\n",
       "  </tbody>\n",
       "</table>\n",
       "</div>"
      ],
      "text/plain": [
       "    Policy no.  children smoker     region  age     sex    bmi  charges in INR\n",
       "358  PLC160840         5     no  southeast   52  female  46.75      12592.5345"
      ]
     },
     "execution_count": 23,
     "metadata": {},
     "output_type": "execute_result"
    }
   ],
   "source": [
    "#The Person Who is the insured with the highest BMI\n",
    "df[df['bmi'] == df['bmi'].max()]"
   ]
  },
  {
   "cell_type": "code",
   "execution_count": 24,
   "id": "9279b499",
   "metadata": {
    "ExecuteTime": {
     "end_time": "2022-08-08T03:42:27.753981Z",
     "start_time": "2022-08-08T03:42:27.724776Z"
    }
   },
   "outputs": [
    {
     "data": {
      "text/html": [
       "<div>\n",
       "<style scoped>\n",
       "    .dataframe tbody tr th:only-of-type {\n",
       "        vertical-align: middle;\n",
       "    }\n",
       "\n",
       "    .dataframe tbody tr th {\n",
       "        vertical-align: top;\n",
       "    }\n",
       "\n",
       "    .dataframe thead th {\n",
       "        text-align: right;\n",
       "    }\n",
       "</style>\n",
       "<table border=\"1\" class=\"dataframe\">\n",
       "  <thead>\n",
       "    <tr style=\"text-align: right;\">\n",
       "      <th></th>\n",
       "      <th>Policy no.</th>\n",
       "      <th>children</th>\n",
       "      <th>smoker</th>\n",
       "      <th>region</th>\n",
       "      <th>age</th>\n",
       "      <th>sex</th>\n",
       "      <th>bmi</th>\n",
       "      <th>charges in INR</th>\n",
       "    </tr>\n",
       "  </thead>\n",
       "  <tbody>\n",
       "    <tr>\n",
       "      <th>839</th>\n",
       "      <td>PLC158446</td>\n",
       "      <td>0</td>\n",
       "      <td>no</td>\n",
       "      <td>northeast</td>\n",
       "      <td>18</td>\n",
       "      <td>male</td>\n",
       "      <td>15.96</td>\n",
       "      <td>1694.7964</td>\n",
       "    </tr>\n",
       "  </tbody>\n",
       "</table>\n",
       "</div>"
      ],
      "text/plain": [
       "    Policy no.  children smoker     region  age   sex    bmi  charges in INR\n",
       "839  PLC158446         0     no  northeast   18  male  15.96       1694.7964"
      ]
     },
     "execution_count": 24,
     "metadata": {},
     "output_type": "execute_result"
    }
   ],
   "source": [
    "#The Person Who is the insured with the Lowest BMI\n",
    "df[df['bmi'] == df['bmi'].min()]"
   ]
  },
  {
   "cell_type": "code",
   "execution_count": 25,
   "id": "0791985c",
   "metadata": {
    "ExecuteTime": {
     "end_time": "2022-08-08T03:42:27.770106Z",
     "start_time": "2022-08-08T03:42:27.753981Z"
    }
   },
   "outputs": [
    {
     "data": {
      "text/plain": [
       "(13270.42, 9382.03)"
      ]
     },
     "execution_count": 25,
     "metadata": {},
     "output_type": "execute_result"
    }
   ],
   "source": [
    "#Average Charges for Policy\n",
    "round(df['charges in INR'].mean(),2),round(df['charges in INR'].median(),2) "
   ]
  },
  {
   "cell_type": "markdown",
   "id": "9cdf37a6",
   "metadata": {
    "ExecuteTime": {
     "end_time": "2022-08-08T03:42:27.783388Z",
     "start_time": "2022-08-08T03:42:27.770106Z"
    }
   },
   "source": [
    "Analysis : \n",
    "- Person with high BMI claimed high amount than Person who has low BMI.\n",
    "- Yes,study of persons BMI get the company any idea for the insurance claim that it would extend    "
   ]
  },
  {
   "cell_type": "markdown",
   "id": "51e8cdd0",
   "metadata": {},
   "source": [
    "6. Is it needed for the company to understand whether the person covered is a smoker or a non-smoker?"
   ]
  },
  {
   "cell_type": "code",
   "execution_count": 27,
   "id": "cafd7328",
   "metadata": {
    "ExecuteTime": {
     "end_time": "2022-08-08T03:42:27.798928Z",
     "start_time": "2022-08-08T03:42:27.783388Z"
    }
   },
   "outputs": [
    {
     "data": {
      "text/plain": [
       "smoker\n",
       "no      8434.268298\n",
       "yes    32050.231832\n",
       "Name: charges in INR, dtype: float64"
      ]
     },
     "execution_count": 27,
     "metadata": {},
     "output_type": "execute_result"
    }
   ],
   "source": [
    "# Checking average premium charges for smokers significantly higher than non-smokers.\n",
    "df['charges in INR'].groupby(df['smoker']).mean()"
   ]
  },
  {
   "cell_type": "code",
   "execution_count": 28,
   "id": "31d9c359",
   "metadata": {
    "ExecuteTime": {
     "end_time": "2022-08-08T03:42:27.827769Z",
     "start_time": "2022-08-08T03:42:27.798928Z"
    }
   },
   "outputs": [
    {
     "data": {
      "text/plain": [
       "smoker  sex   \n",
       "no      female    547\n",
       "        male      517\n",
       "yes     female    115\n",
       "        male      159\n",
       "Name: age, dtype: int64"
      ]
     },
     "execution_count": 28,
     "metadata": {},
     "output_type": "execute_result"
    }
   ],
   "source": [
    "df.groupby(['smoker', 'sex']).agg('count')['age']"
   ]
  },
  {
   "cell_type": "code",
   "execution_count": 29,
   "id": "6a17cf70",
   "metadata": {
    "ExecuteTime": {
     "end_time": "2022-08-08T03:42:27.987807Z",
     "start_time": "2022-08-08T03:42:27.827769Z"
    }
   },
   "outputs": [
    {
     "data": {
      "text/plain": [
       "<AxesSubplot:xlabel='smoker', ylabel='charges in INR'>"
      ]
     },
     "execution_count": 29,
     "metadata": {},
     "output_type": "execute_result"
    },
    {
     "data": {
      "image/png": "[encoded data removed]",
      "text/plain": [
       "<Figure size 432x288 with 1 Axes>"
      ]
     },
     "metadata": {
      "needs_background": "light"
     },
     "output_type": "display_data"
    }
   ],
   "source": [
    "sns.barplot(x = 'smoker', y = 'charges in INR', data = df)"
   ]
  },
  {
   "cell_type": "markdown",
   "id": "a73cebec",
   "metadata": {},
   "source": [
    "Analysis :\n",
    "- Them amount claimed by smoker is higher than the non-smokers. so company need to more focus on smokers.\n",
    "- yes,the company to understand whether the person covered is a smoker or a non-smoker."
   ]
  },
  {
   "cell_type": "markdown",
   "id": "2ddbad01",
   "metadata": {},
   "source": [
    "7. Does age have any barrier on the insurance claimed?"
   ]
  },
  {
   "cell_type": "code",
   "execution_count": 30,
   "id": "c7d28cf1",
   "metadata": {
    "ExecuteTime": {
     "end_time": "2022-08-08T03:42:28.006381Z",
     "start_time": "2022-08-08T03:42:27.987807Z"
    }
   },
   "outputs": [
    {
     "data": {
      "text/plain": [
       "18    69\n",
       "19    68\n",
       "20    29\n",
       "48    29\n",
       "47    29\n",
       "51    29\n",
       "50    29\n",
       "45    29\n",
       "52    29\n",
       "46    29\n",
       "21    28\n",
       "24    28\n",
       "25    28\n",
       "28    28\n",
       "27    28\n",
       "49    28\n",
       "23    28\n",
       "53    28\n",
       "22    28\n",
       "26    28\n",
       "54    28\n",
       "42    27\n",
       "30    27\n",
       "31    27\n",
       "43    27\n",
       "40    27\n",
       "41    27\n",
       "44    27\n",
       "29    27\n",
       "33    26\n",
       "56    26\n",
       "55    26\n",
       "32    26\n",
       "57    26\n",
       "34    26\n",
       "58    25\n",
       "59    25\n",
       "37    25\n",
       "39    25\n",
       "36    25\n",
       "38    25\n",
       "35    25\n",
       "61    23\n",
       "60    23\n",
       "62    23\n",
       "63    23\n",
       "64    22\n",
       "Name: age, dtype: int64"
      ]
     },
     "execution_count": 30,
     "metadata": {},
     "output_type": "execute_result"
    }
   ],
   "source": [
    "df['age'].value_counts()"
   ]
  },
  {
   "cell_type": "code",
   "execution_count": 31,
   "id": "388b9d63",
   "metadata": {
    "ExecuteTime": {
     "end_time": "2022-08-08T03:42:28.167953Z",
     "start_time": "2022-08-08T03:42:28.006381Z"
    }
   },
   "outputs": [
    {
     "data": {
      "image/png": "[encoded data removed]",
      "text/plain": [
       "<Figure size 1152x720 with 1 Axes>"
      ]
     },
     "metadata": {
      "needs_background": "light"
     },
     "output_type": "display_data"
    }
   ],
   "source": [
    "fig = plt.figure(figsize=(16, 10))\n",
    "ax1 = sns.scatterplot( x = 'charges in INR', y=  'age', data = df)"
   ]
  },
  {
   "cell_type": "markdown",
   "id": "8f8b7434",
   "metadata": {},
   "source": [
    "Analysis :\n",
    "- Person who has age 18 and 19 claimed more number of insurance than other age group people. but all other age groups equally Contributed in insurance claim. so there is no age barrier  on the insurance claimed."
   ]
  },
  {
   "cell_type": "markdown",
   "id": "7e7217cf",
   "metadata": {},
   "source": [
    "8. Can the company extend certain discounts after checking the health status (BMI) in this case?"
   ]
  },
  {
   "cell_type": "code",
   "execution_count": 32,
   "id": "00ea6693",
   "metadata": {
    "ExecuteTime": {
     "end_time": "2022-08-08T03:42:28.354832Z",
     "start_time": "2022-08-08T03:42:28.167953Z"
    }
   },
   "outputs": [
    {
     "name": "stderr",
     "output_type": "stream",
     "text": [
      "C:\\Users\\Mahesh\\anaconda3\\lib\\site-packages\\seaborn\\_decorators.py:36: FutureWarning: Pass the following variables as keyword args: x, y. From version 0.12, the only valid positional argument will be `data`, and passing other arguments without an explicit keyword will result in an error or misinterpretation.\n",
      "  warnings.warn(\n"
     ]
    },
    {
     "data": {
      "image/png": "[encoded data removed]",
      "text/plain": [
       "<Figure size 1152x720 with 1 Axes>"
      ]
     },
     "metadata": {
      "needs_background": "light"
     },
     "output_type": "display_data"
    }
   ],
   "source": [
    "fig = plt.figure(figsize=(16, 10))\n",
    "ax1 = sns.scatterplot(df['charges in INR'],df['bmi'],color = 'r')"
   ]
  },
  {
   "cell_type": "code",
   "execution_count": 33,
   "id": "306b0f50",
   "metadata": {
    "ExecuteTime": {
     "end_time": "2022-08-08T03:42:28.386575Z",
     "start_time": "2022-08-08T03:42:28.354832Z"
    }
   },
   "outputs": [
    {
     "data": {
      "text/html": [
       "<div>\n",
       "<style scoped>\n",
       "    .dataframe tbody tr th:only-of-type {\n",
       "        vertical-align: middle;\n",
       "    }\n",
       "\n",
       "    .dataframe tbody tr th {\n",
       "        vertical-align: top;\n",
       "    }\n",
       "\n",
       "    .dataframe thead th {\n",
       "        text-align: right;\n",
       "    }\n",
       "</style>\n",
       "<table border=\"1\" class=\"dataframe\">\n",
       "  <thead>\n",
       "    <tr style=\"text-align: right;\">\n",
       "      <th></th>\n",
       "      <th>Policy no.</th>\n",
       "      <th>children</th>\n",
       "      <th>smoker</th>\n",
       "      <th>region</th>\n",
       "      <th>age</th>\n",
       "      <th>sex</th>\n",
       "      <th>bmi</th>\n",
       "      <th>charges in INR</th>\n",
       "    </tr>\n",
       "  </thead>\n",
       "  <tbody>\n",
       "    <tr>\n",
       "      <th>1157</th>\n",
       "      <td>PLC161785</td>\n",
       "      <td>0</td>\n",
       "      <td>yes</td>\n",
       "      <td>southeast</td>\n",
       "      <td>54</td>\n",
       "      <td>female</td>\n",
       "      <td>34.69375</td>\n",
       "      <td>63770.42801</td>\n",
       "    </tr>\n",
       "  </tbody>\n",
       "</table>\n",
       "</div>"
      ],
      "text/plain": [
       "     Policy no.  children smoker     region  age     sex       bmi  \\\n",
       "1157  PLC161785         0    yes  southeast   54  female  34.69375   \n",
       "\n",
       "      charges in INR  \n",
       "1157     63770.42801  "
      ]
     },
     "execution_count": 33,
     "metadata": {},
     "output_type": "execute_result"
    }
   ],
   "source": [
    "# The Perason Who is paying the highest charges\n",
    "df[df['charges in INR'] == df['charges in INR'].max()]"
   ]
  },
  {
   "cell_type": "code",
   "execution_count": 51,
   "id": "3f6f9601",
   "metadata": {
    "ExecuteTime": {
     "end_time": "2022-08-08T06:17:00.096999Z",
     "start_time": "2022-08-08T06:17:00.060552Z"
    }
   },
   "outputs": [
    {
     "data": {
      "text/html": [
       "<div>\n",
       "<style scoped>\n",
       "    .dataframe tbody tr th:only-of-type {\n",
       "        vertical-align: middle;\n",
       "    }\n",
       "\n",
       "    .dataframe tbody tr th {\n",
       "        vertical-align: top;\n",
       "    }\n",
       "\n",
       "    .dataframe thead th {\n",
       "        text-align: right;\n",
       "    }\n",
       "</style>\n",
       "<table border=\"1\" class=\"dataframe\">\n",
       "  <thead>\n",
       "    <tr style=\"text-align: right;\">\n",
       "      <th></th>\n",
       "      <th>Policy no.</th>\n",
       "      <th>children</th>\n",
       "      <th>smoker</th>\n",
       "      <th>region</th>\n",
       "      <th>age</th>\n",
       "      <th>sex</th>\n",
       "      <th>bmi</th>\n",
       "      <th>charges in INR</th>\n",
       "    </tr>\n",
       "  </thead>\n",
       "  <tbody>\n",
       "    <tr>\n",
       "      <th>358</th>\n",
       "      <td>PLC160840</td>\n",
       "      <td>5</td>\n",
       "      <td>no</td>\n",
       "      <td>southeast</td>\n",
       "      <td>52</td>\n",
       "      <td>female</td>\n",
       "      <td>46.75</td>\n",
       "      <td>12592.5345</td>\n",
       "    </tr>\n",
       "  </tbody>\n",
       "</table>\n",
       "</div>"
      ],
      "text/plain": [
       "    Policy no.  children smoker     region  age     sex    bmi  charges in INR\n",
       "358  PLC160840         5     no  southeast   52  female  46.75      12592.5345"
      ]
     },
     "execution_count": 51,
     "metadata": {},
     "output_type": "execute_result"
    }
   ],
   "source": [
    "#The Person Who is the insured with the Highest BMI\n",
    "df[df['bmi'] == df['bmi'].max()]"
   ]
  },
  {
   "cell_type": "code",
   "execution_count": 35,
   "id": "738cbf0e",
   "metadata": {
    "ExecuteTime": {
     "end_time": "2022-08-08T03:42:28.418492Z",
     "start_time": "2022-08-08T03:42:28.402500Z"
    }
   },
   "outputs": [
    {
     "data": {
      "text/html": [
       "<div>\n",
       "<style scoped>\n",
       "    .dataframe tbody tr th:only-of-type {\n",
       "        vertical-align: middle;\n",
       "    }\n",
       "\n",
       "    .dataframe tbody tr th {\n",
       "        vertical-align: top;\n",
       "    }\n",
       "\n",
       "    .dataframe thead th {\n",
       "        text-align: right;\n",
       "    }\n",
       "</style>\n",
       "<table border=\"1\" class=\"dataframe\">\n",
       "  <thead>\n",
       "    <tr style=\"text-align: right;\">\n",
       "      <th></th>\n",
       "      <th>Policy no.</th>\n",
       "      <th>children</th>\n",
       "      <th>smoker</th>\n",
       "      <th>region</th>\n",
       "      <th>age</th>\n",
       "      <th>sex</th>\n",
       "      <th>bmi</th>\n",
       "      <th>charges in INR</th>\n",
       "    </tr>\n",
       "  </thead>\n",
       "  <tbody>\n",
       "    <tr>\n",
       "      <th>839</th>\n",
       "      <td>PLC158446</td>\n",
       "      <td>0</td>\n",
       "      <td>no</td>\n",
       "      <td>northeast</td>\n",
       "      <td>18</td>\n",
       "      <td>male</td>\n",
       "      <td>15.96</td>\n",
       "      <td>1694.7964</td>\n",
       "    </tr>\n",
       "  </tbody>\n",
       "</table>\n",
       "</div>"
      ],
      "text/plain": [
       "    Policy no.  children smoker     region  age   sex    bmi  charges in INR\n",
       "839  PLC158446         0     no  northeast   18  male  15.96       1694.7964"
      ]
     },
     "execution_count": 35,
     "metadata": {},
     "output_type": "execute_result"
    }
   ],
   "source": [
    "#The Person Who is the insured with the Lowest BMI\n",
    "df[df['bmi'] == df['bmi'].min()]"
   ]
  },
  {
   "cell_type": "code",
   "execution_count": 50,
   "id": "957cbaaa",
   "metadata": {
    "ExecuteTime": {
     "end_time": "2022-08-08T04:10:09.584769Z",
     "start_time": "2022-08-08T04:10:09.563468Z"
    }
   },
   "outputs": [
    {
     "name": "stdout",
     "output_type": "stream",
     "text": [
      "Number of person who has bmi greater than 30 is : 188 out of 1338 persons.\n"
     ]
    }
   ],
   "source": [
    "count_bmi = 0\n",
    "for x in df['bmi']:\n",
    "    if x > 15 and x < 24:\n",
    "        count_bmi = count_bmi + 1\n",
    "    counts = count_bmi\n",
    "print('Number of person who has bmi greater than 30 is :',counts, 'out of 1338 persons.')\n",
    "    "
   ]
  },
  {
   "cell_type": "markdown",
   "id": "2f4f3fea",
   "metadata": {},
   "source": [
    "Analysis :\n",
    "- out of 1338 persons , 188 person who has low(18 to 24) BMI. Also the persons who has low BMI are claimed less  amount than person wh has high BMI.\n",
    "- To attract persons who has low BMI. company need to extend certain discounts for low BMI persons."
   ]
  },
  {
   "cell_type": "code",
   "execution_count": null,
   "id": "5fbb9547",
   "metadata": {},
   "outputs": [],
   "source": []
  }
 ],
 "metadata": {
  "kernelspec": {
   "display_name": "Python 3 (ipykernel)",
   "language": "python",
   "name": "python3"
  },
  "language_info": {
   "codemirror_mode": {
    "name": "ipython",
    "version": 3
   },
   "file_extension": ".py",
   "mimetype": "text/x-python",
   "name": "python",
   "nbconvert_exporter": "python",
   "pygments_lexer": "ipython3",
   "version": "3.9.12"
  }
 },
 "nbformat": 4,
 "nbformat_minor": 5
}
